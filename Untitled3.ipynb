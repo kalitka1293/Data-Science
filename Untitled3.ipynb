{
 "cells": [
  {
   "cell_type": "code",
   "execution_count": 64,
   "id": "8cdb6942",
   "metadata": {},
   "outputs": [],
   "source": [
    "import pandas as pd\n",
    "import pylab as plt\n",
    "from sklearn import preprocessing\n",
    "from sklearn.decomposition import PCA\n",
    "\n",
    "url = 'https://archive.ics.uci.edu/ml/machine-learning-databases/wine-quality/winequality-white.csv'\n",
    "data = pd.read_csv(url, sep=';')\n",
    "x = data[[u'fixed acidity',u'volatile acidity',u'citric acid',u'residual sugar',u'chlorides',u'free sulfur dioxide',\n",
    "          u'total sulfur dioxide',u'density',u'pH',u'sulphates',u'alcohol']]\n",
    "\n",
    "\n",
    "\n"
   ]
  },
  {
   "cell_type": "code",
   "execution_count": 89,
   "id": "5043ec8c",
   "metadata": {},
   "outputs": [
    {
     "data": {
      "image/png": "[encoded data removed]",
      "text/plain": [
       "<Figure size 432x288 with 1 Axes>"
      ]
     },
     "metadata": {
      "needs_background": "light"
     },
     "output_type": "display_data"
    }
   ],
   "source": [
    "model = PCA()\n",
    "y = data.quality\n",
    "x = preprocessing.StandardScaler().fit(x).transform(x)\n",
    "result = model.fit(x)\n",
    "z = result.transform(x)\n",
    "plt.plot(result.explained_variance_)\n",
    "plt.show()\n",
    "#3 скрытых переменных могут отобразить примерно 70% информации\n"
   ]
  },
  {
   "cell_type": "code",
   "execution_count": 74,
   "id": "7abaccec",
   "metadata": {},
   "outputs": [
    {
     "data": {
      "text/plain": [
       "array([[  7,   3,  20,  11,   1,   2,   0],\n",
       "       [  3,  37,  58,  32,   2,   0,   0],\n",
       "       [  2,  57, 810, 610,  94,  17,   0],\n",
       "       [  4,  42, 404, 738, 179,  35,   1],\n",
       "       [  4,  23, 164, 797, 591, 112,   3],\n",
       "       [  0,   1,   1,  10,  12,   9,   0],\n",
       "       [  0,   0,   0,   0,   1,   0,   1]], dtype=int64)"
      ]
     },
     "execution_count": 74,
     "metadata": {},
     "output_type": "execute_result"
    }
   ],
   "source": [
    "from sklearn.model_selection import train_test_split\n",
    "from sklearn.naive_bayes import GaussianNB\n",
    "from sklearn.metrics import confusion_matrix\n",
    "import pylab as plt\n",
    "import pandas as pd\n",
    "\n",
    "gnb = GaussianNB()\n",
    "fit = gnb.fit(x, y)#обучили модель\n",
    "pred = fit.predict(x)#проверяем модель на прогнозирование\n",
    "confusion_matrix(pred, y)#вывод матрицы несоотвествий\n",
    "\n",
    "\n",
    "\n",
    "\n",
    "\n"
   ]
  },
  {
   "cell_type": "code",
   "execution_count": null,
   "id": "b43ce98a",
   "metadata": {},
   "outputs": [],
   "source": [
    "from sklearn.model_selection import train_test_split\n",
    "from sklearn.naive_bayes import GaussianNB\n",
    "from sklearn.metrics import confusion_matrix\n",
    "import pylab as plt\n",
    "import pandas as pd"
   ]
  },
  {
   "cell_type": "code",
   "execution_count": 75,
   "id": "d36bd4a0",
   "metadata": {},
   "outputs": [
    {
     "name": "stdout",
     "output_type": "stream",
     "text": [
      "<class 'pandas.core.frame.DataFrame'>\n",
      "RangeIndex: 4898 entries, 0 to 4897\n",
      "Data columns (total 12 columns):\n",
      " #   Column                Non-Null Count  Dtype  \n",
      "---  ------                --------------  -----  \n",
      " 0   fixed acidity         4898 non-null   float64\n",
      " 1   volatile acidity      4898 non-null   float64\n",
      " 2   citric acid           4898 non-null   float64\n",
      " 3   residual sugar        4898 non-null   float64\n",
      " 4   chlorides             4898 non-null   float64\n",
      " 5   free sulfur dioxide   4898 non-null   float64\n",
      " 6   total sulfur dioxide  4898 non-null   float64\n",
      " 7   density               4898 non-null   float64\n",
      " 8   pH                    4898 non-null   float64\n",
      " 9   sulphates             4898 non-null   float64\n",
      " 10  alcohol               4898 non-null   float64\n",
      " 11  quality               4898 non-null   int64  \n",
      "dtypes: float64(11), int64(1)\n",
      "memory usage: 459.3 KB\n"
     ]
    }
   ],
   "source": [
    "data.info()\n",
    "    \n",
    "    "
   ]
  },
  {
   "cell_type": "code",
   "execution_count": 76,
   "id": "2cb90bc0",
   "metadata": {},
   "outputs": [
    {
     "data": {
      "text/plain": [
       "2193"
      ]
     },
     "execution_count": 76,
     "metadata": {},
     "output_type": "execute_result"
    }
   ],
   "source": [
    "confusion_matrix(pred, y).trace()"
   ]
  },
  {
   "cell_type": "code",
   "execution_count": 77,
   "id": "7ce8a3e0",
   "metadata": {},
   "outputs": [
    {
     "data": {
      "text/plain": [
       "array([[   7,    5,   35,   46,    2,    2,    0],\n",
       "       [   2,   34,   48,   29,    4,    3,    0],\n",
       "       [   2,   51,  617,  330,   23,    5,    0],\n",
       "       [   8,   66,  689, 1293,  415,   73,    2],\n",
       "       [   1,    7,   67,  495,  428,   88,    2],\n",
       "       [   0,    0,    1,    5,    7,    4,    0],\n",
       "       [   0,    0,    0,    0,    1,    0,    1]], dtype=int64)"
      ]
     },
     "execution_count": 77,
     "metadata": {},
     "output_type": "execute_result"
    }
   ],
   "source": [
    "from sklearn.model_selection import train_test_split\n",
    "from sklearn.naive_bayes import GaussianNB\n",
    "from sklearn.metrics import confusion_matrix\n",
    "import pylab as plt\n",
    "import pandas as pd\n",
    "from sklearn import preprocessing\n",
    "from sklearn.decomposition import PCA\n",
    "\n",
    "model = PCA()\n",
    "result = model.fit(x)\n",
    "z = result.transform(x)\n",
    "gnb = GaussianNB()\n",
    "fit = gnb.fit(z, y)\n",
    "pred = fit.predict(z)\n",
    "confusion_matrix(pred, y)\n"
   ]
  },
  {
   "cell_type": "code",
   "execution_count": 78,
   "id": "5b5fc6f2",
   "metadata": {},
   "outputs": [
    {
     "data": {
      "text/plain": [
       "2384"
      ]
     },
     "execution_count": 78,
     "metadata": {},
     "output_type": "execute_result"
    }
   ],
   "source": [
    "confusion_matrix(pred, y).trace()"
   ]
  },
  {
   "cell_type": "code",
   "execution_count": 80,
   "id": "4a4ced8d",
   "metadata": {},
   "outputs": [
    {
     "name": "stdout",
     "output_type": "stream",
     "text": [
      "[2241]\n",
      "[2241, 2252]\n",
      "[2241, 2252, 2347]\n",
      "[2241, 2252, 2347, 2314]\n",
      "[2241, 2252, 2347, 2314, 2364]\n",
      "[2241, 2252, 2347, 2314, 2364, 2342]\n",
      "[2241, 2252, 2347, 2314, 2364, 2342, 2328]\n",
      "[2241, 2252, 2347, 2314, 2364, 2342, 2328, 2349]\n",
      "[2241, 2252, 2347, 2314, 2364, 2342, 2328, 2349, 2424]\n"
     ]
    },
    {
     "data": {
      "image/png": "[encoded data removed]",
      "text/plain": [
       "<Figure size 432x288 with 1 Axes>"
      ]
     },
     "metadata": {
      "needs_background": "light"
     },
     "output_type": "display_data"
    }
   ],
   "source": [
    "pred_cor = []\n",
    "for i in range(1, 10):\n",
    "    model = PCA(n_components = i)\n",
    "    result = model.fit(x)\n",
    "    z = result.transform(x)\n",
    "    gnb = GaussianNB()\n",
    "    fit = gnb.fit(z, y)\n",
    "    pred = fit.predict(z)\n",
    "    pred_cor.append(confusion_matrix(pred, y).trace())\n",
    "    print(pred_cor)\n",
    "    \n",
    "plt.plot(pred_cor)\n",
    "plt.show()"
   ]
  },
  {
   "cell_type": "code",
   "execution_count": 90,
   "id": "1d6d0c32",
   "metadata": {},
   "outputs": [
    {
     "data": {
      "text/plain": [
       "2314"
      ]
     },
     "execution_count": 90,
     "metadata": {},
     "output_type": "execute_result"
    }
   ],
   "source": [
    "model = PCA(n_components = 4)\n",
    "result = model.fit(x)\n",
    "z = result.transform(x)\n",
    "gnb = GaussianNB()\n",
    "fit = gnb.fit(z, y)\n",
    "pred = fit.predict(z)\n",
    "confusion_matrix(pred, y).trace()"
   ]
  },
  {
   "cell_type": "code",
   "execution_count": null,
   "id": "bb3bcfb6",
   "metadata": {},
   "outputs": [],
   "source": []
  }
 ],
 "metadata": {
  "kernelspec": {
   "display_name": "Python 3 (ipykernel)",
   "language": "python",
   "name": "python3"
  },
  "language_info": {
   "codemirror_mode": {
    "name": "ipython",
    "version": 3
   },
   "file_extension": ".py",
   "mimetype": "text/x-python",
   "name": "python",
   "nbconvert_exporter": "python",
   "pygments_lexer": "ipython3",
   "version": "3.9.7"
  }
 },
 "nbformat": 4,
 "nbformat_minor": 5
}
